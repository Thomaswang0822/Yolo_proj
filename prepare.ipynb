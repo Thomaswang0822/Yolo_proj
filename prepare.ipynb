{
 "cells": [
  {
   "cell_type": "code",
   "execution_count": null,
   "id": "49cca92e",
   "metadata": {},
   "outputs": [],
   "source": [
    "import os\n",
    "from functools import reduce\n",
    "import pandas as pd\n",
    "import numpy as np\n",
    "\n",
    "from glob import glob     # match specified patterns\n",
    "from xml.etree import ElementTree as et    # for parsing and creating XML data.\n",
    "from sklearn.model_selection import train_test_split"
   ]
  },
  {
   "cell_type": "code",
   "execution_count": null,
   "id": "c462a30e",
   "metadata": {},
   "outputs": [],
   "source": [
    "# 1. Load all paths of xml files (tagged images) in the data folder\n",
    "DATA_DIR = \"./data_images/\"\n",
    "\n",
    "xml_list = sorted( glob(DATA_DIR + '*.xml') )\n",
    "xml_list"
   ]
  },
  {
   "cell_type": "code",
   "execution_count": null,
   "id": "0531ad5c",
   "metadata": {},
   "outputs": [],
   "source": [
    "# 2. Define function that extracts info from single xml\n",
    "# variables: (can be checked by opening xml file with text editor)\n",
    "## filename\n",
    "## size(width, height): image size\n",
    "## *object(name, xmin, xmax, ymin, ymax): bounding box and label for EACH object\n",
    "\n",
    "def extract_xml(xml_name):\n",
    "    \"\"\"Return a 2D list, with each row as an object in a bbox\"\"\"\n",
    "    root = et.parse(xml_name).getroot()\n",
    "    \n",
    "    fname = root.findtext('filename')\n",
    "    \n",
    "    size = root.find('size')\n",
    "    w = size.findtext('width')\n",
    "    h = size.findtext('height')\n",
    "\n",
    "    # iterate thru all objects\n",
    "    obj_it = root.iterfind('object')\n",
    "    res = []     # image:object is 1-to-n with non-fixed n\n",
    "    for obj in obj_it:\n",
    "        tag = obj.findtext('name')\n",
    "        obj_info = [fname, int(w), int(h), tag]\n",
    "        bbox_it = obj.find('bndbox').iter().__next__()  # first element is a separator\n",
    "        for t in bbox_it:\n",
    "            obj_info.append(int(t.text))\n",
    "        res.append(obj_info)\n",
    "        \n",
    "    return res"
   ]
  },
  {
   "cell_type": "code",
   "execution_count": null,
   "id": "ba68ed19",
   "metadata": {},
   "outputs": [],
   "source": [
    "# Have a look\n",
    "extract_xml('./data_images/000001.xml')"
   ]
  },
  {
   "cell_type": "code",
   "execution_count": null,
   "id": "9ed9c041",
   "metadata": {},
   "outputs": [],
   "source": [
    "# 3. Process all xml files and create a Dataframe\n",
    "data_list = []\n",
    "for f_xml in xml_list:\n",
    "    data_list += extract_xml(f_xml)\n",
    "df = pd.DataFrame(\n",
    "    data=data_list, \n",
    "    columns=['filename', 'width', 'height', 'tag', 'x_min', 'y_min', 'x_max', 'y_max']\n",
    ")\n",
    "df.head(10)"
   ]
  },
  {
   "cell_type": "code",
   "execution_count": null,
   "id": "ebf6cf8a",
   "metadata": {},
   "outputs": [],
   "source": [
    "# 4. Yolo uses different bbox info:\n",
    "## normalized center x and y: x_c, y_c\n",
    "## normalized bbox width and height: box_w, box_h\n",
    "df['x_c'] = (df['x_min'] + df['x_max']) * 0.5 / df['width']\n",
    "df['y_c'] = (df['y_min'] + df['y_max']) * 0.5 / df['height']\n",
    "\n",
    "df['box_w'] = (df['x_max'] - df['x_min']) / df['width']\n",
    "df['box_h'] = (df['y_max'] - df['y_min']) / df['height']\n",
    "df.head()"
   ]
  },
  {
   "cell_type": "code",
   "execution_count": null,
   "id": "befd3a9e",
   "metadata": {},
   "outputs": [],
   "source": [
    "# 5. Convert original tag (str) to encodings (int)\n",
    "tag_array = df['tag'].unique()\n",
    "tag_encode = {tag: i[0] for i, tag in np.ndenumerate(tag_array)}\n",
    "print(tag_encode)\n",
    "\n",
    "# insert encoding col next to tag string\n",
    "df.insert(\n",
    "    loc=4, \n",
    "    column='tag_encode', \n",
    "    value=df['tag'].apply(lambda x: tag_encode[x])\n",
    ")\n",
    "# have a look at complete df\n",
    "df "
   ]
  },
  {
   "cell_type": "code",
   "execution_count": null,
   "id": "186c2ea1",
   "metadata": {},
   "outputs": [],
   "source": [
    "# 5a. Create data.yaml file; copy the output under 'names:'\n",
    "for k in tag_encode:\n",
    "    print(f\"{d[k]} : '{k}'\")"
   ]
  },
  {
   "cell_type": "code",
   "execution_count": null,
   "id": "e7313dff",
   "metadata": {},
   "outputs": [],
   "source": [
    "df['tag'].value_counts()"
   ]
  },
  {
   "cell_type": "code",
   "execution_count": null,
   "id": "bcffed47",
   "metadata": {},
   "outputs": [],
   "source": [
    "# 6. Yolo only needs (tag_encode, x_c, y_c, box_w, box_h) stored in txt files\n",
    "# We also need filename: 000001.jpg -> 000001.txt\n",
    "\n",
    "cols = ['filename', 'tag_encode']+ list(df.columns[-4:] )\n",
    "print(cols)\n",
    "df = df[cols]\n",
    "df"
   ]
  },
  {
   "cell_type": "code",
   "execution_count": null,
   "id": "63c4b48a",
   "metadata": {},
   "outputs": [],
   "source": [
    "# 7. Split train and test data: should split filenames, not all objects (bboxes)\n",
    "# i.e. all objects of each file should go into the same train/test set\n",
    "\n",
    "train_fnames, test_fnames = train_test_split(df['filename'].unique(), test_size=0.2)\n",
    "train_df = df.loc[df['filename'].isin(train_fnames)]\n",
    "test_df = df.loc[df['filename'].isin(test_fnames)]\n",
    "train_df.head()"
   ]
  },
  {
   "cell_type": "code",
   "execution_count": null,
   "id": "22752c1a",
   "metadata": {},
   "outputs": [],
   "source": [
    "import os\n",
    "from os.path import join as pjoin\n",
    "from shutil import copy"
   ]
  },
  {
   "cell_type": "code",
   "execution_count": null,
   "id": "76f3a1fe",
   "metadata": {},
   "outputs": [],
   "source": [
    "# 8. Save info to txt files in train and test folders\n",
    "# This txt file actually has 'space_sep_format'\n",
    "TRAIN_DIR = \"./train_data/\"\n",
    "TEST_DIR = \"./test_data/\"\n",
    "SOURCE_DIR = \"./data_images\"\n",
    "\n",
    "\"\"\"Save a txt file of a single image\n",
    "filename: \"000001.jpg\"\n",
    "data_dir: TRAIN_DIR or TEST_DIR\n",
    "group_by: groupby() object\n",
    "Reason:\n",
    "for each img:\n",
    "    group_by.get_group(img) is more efficient than df.loc[img]\n",
    "\"\"\"\n",
    "def save_txt(filename, data_dir, group_by):\n",
    "    # copy images; delete original later\n",
    "    src = pjoin(SOURCE_DIR, filename)\n",
    "    dst = pjoin(data_dir, filename)\n",
    "    copy(src, dst)\n",
    "\n",
    "    # create labels (txt files)\n",
    "    group_by.get_group(filename).set_index('filename').to_csv(\n",
    "        pjoin(data_dir, os.path.splitext(filename)[0] + '.txt'),\n",
    "        sep=' ',\n",
    "        index=False,\n",
    "        header=False\n",
    "    )\n",
    "    "
   ]
  },
  {
   "cell_type": "code",
   "execution_count": null,
   "id": "62e511f8",
   "metadata": {},
   "outputs": [],
   "source": [
    "# Create group_by and call functions\n",
    "train_groupby = train_df.groupby('filename')\n",
    "test_groupby = test_df.groupby('filename')\n",
    "\n",
    "for fname in train_fnames:\n",
    "    save_txt(fname, TRAIN_DIR, train_groupby)\n",
    "for fname in test_fnames:\n",
    "    save_txt(fname, TEST_DIR, test_groupby)\n"
   ]
  },
  {
   "cell_type": "code",
   "execution_count": null,
   "id": "70ef41de",
   "metadata": {},
   "outputs": [],
   "source": []
  }
 ],
 "metadata": {
  "kernelspec": {
   "display_name": "yolo_venv",
   "language": "python",
   "name": "python3"
  },
  "language_info": {
   "codemirror_mode": {
    "name": "ipython",
    "version": 3
   },
   "file_extension": ".py",
   "mimetype": "text/x-python",
   "name": "python",
   "nbconvert_exporter": "python",
   "pygments_lexer": "ipython3",
   "version": "3.10.6 (main, Oct 24 2022, 16:07:47) [GCC 11.2.0]"
  },
  "vscode": {
   "interpreter": {
    "hash": "9b659a5cf8907fe2343d174b3fdf6ab1fe799c772da7e169976d5ef47b513128"
   }
  }
 },
 "nbformat": 4,
 "nbformat_minor": 5
}
