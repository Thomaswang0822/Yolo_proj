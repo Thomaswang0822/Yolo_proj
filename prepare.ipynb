{
 "cells": [
  {
   "cell_type": "code",
   "execution_count": 1,
   "id": "9e32e31d",
   "metadata": {},
   "outputs": [],
   "source": [
    "import os\n",
    "from functools import reduce\n",
    "import pandas as pd\n",
    "\n",
    "from glob import glob     # match specified patterns\n",
    "from xml.etree import ElementTree as et    # for parsing and creating XML data."
   ]
  },
  {
   "cell_type": "code",
   "execution_count": null,
   "id": "f5e5007a",
   "metadata": {},
   "outputs": [],
   "source": [
    "# Load all xml files (tagged images) in the data folder\n",
    "DATA_DIR = \"./data_images/\""
   ]
  }
 ],
 "metadata": {
  "kernelspec": {
   "display_name": "Python 3 (ipykernel)",
   "language": "python",
   "name": "python3"
  },
  "language_info": {
   "codemirror_mode": {
    "name": "ipython",
    "version": 3
   },
   "file_extension": ".py",
   "mimetype": "text/x-python",
   "name": "python",
   "nbconvert_exporter": "python",
   "pygments_lexer": "ipython3",
   "version": "3.10.6"
  }
 },
 "nbformat": 4,
 "nbformat_minor": 5
}
